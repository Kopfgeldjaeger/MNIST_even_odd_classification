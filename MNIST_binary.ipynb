{
  "nbformat": 4,
  "nbformat_minor": 0,
  "metadata": {
    "colab": {
      "name": "MNIST_binary.ipynb",
      "provenance": [],
      "collapsed_sections": [],
      "toc_visible": true,
      "authorship_tag": "ABX9TyPq9ACsI/OuTXsvFv0agb43",
      "include_colab_link": true
    },
    "kernelspec": {
      "name": "python3",
      "display_name": "Python 3"
    },
    "accelerator": "GPU"
  },
  "cells": [
    {
      "cell_type": "markdown",
      "metadata": {
        "id": "view-in-github",
        "colab_type": "text"
      },
      "source": [
        "<a href=\"https://colab.research.google.com/github/Kopfgeldjaeger/MNIST_even_odd_classification/blob/master/MNIST_binary.ipynb\" target=\"_parent\"><img src=\"https://colab.research.google.com/assets/colab-badge.svg\" alt=\"Open In Colab\"/></a>"
      ]
    },
    {
      "cell_type": "code",
      "metadata": {
        "id": "QeykwIBXhsRw",
        "colab_type": "code",
        "outputId": "5fd4e596-cadd-4d79-b4ed-c7775e8a3262",
        "colab": {
          "base_uri": "https://localhost:8080/",
          "height": 118
        }
      },
      "source": [
        "import os\n",
        "cwd = os.getcwd()\n",
        "print(cwd)\n",
        "%ls \n",
        "print('\\t')\n",
        "from zipfile import ZipFile\n",
        "file_name = 'mnistasjpg.zip'\n",
        "with ZipFile(file_name,'r') as zip:\n",
        "  zip.extractall()\n",
        "  print('Done.')\n",
        "%ls"
      ],
      "execution_count": 0,
      "outputs": [
        {
          "output_type": "stream",
          "text": [
            "/content\n",
            "mnistasjpg.zip  \u001b[0m\u001b[01;34msample_data\u001b[0m/\n",
            "\t\n",
            "Done.\n",
            "mnistasjpg.zip  \u001b[0m\u001b[01;34mtestSample\u001b[0m/  testSet.tar.gz   \u001b[01;34mtrainingSet\u001b[0m/\n",
            "\u001b[01;34msample_data\u001b[0m/    \u001b[01;34mtestSet\u001b[0m/     \u001b[01;34mtrainingSample\u001b[0m/  trainingSet.tar.gz\n"
          ],
          "name": "stdout"
        }
      ]
    },
    {
      "cell_type": "code",
      "metadata": {
        "id": "SJx9ve_YjkJP",
        "colab_type": "code",
        "outputId": "e0ea9f1a-c6c3-4a23-9011-51491914797d",
        "colab": {
          "base_uri": "https://localhost:8080/",
          "height": 79
        }
      },
      "source": [
        "import keras\n",
        "import glob\n",
        "import os\n",
        "from keras.preprocessing.image import ImageDataGenerator,load_img,img_to_array,  array_to_img\n",
        "from keras.layers import Dense, Conv2D, MaxPool2D, Flatten,Dropout\n",
        "from keras import optimizers\n",
        "from keras.models import Sequential\n",
        "import numpy as np\n",
        "\n",
        "a_files = glob.glob('trainingSet/trainingSet/0/*')\n",
        "b_files = glob.glob('trainingSet/trainingSet/1/*')\n",
        "c_files = glob.glob('trainingSet/trainingSet/2/*')\n",
        "d_files = glob.glob('trainingSet/trainingSet/3/*')\n",
        "e_files = glob.glob('trainingSet/trainingSet/4/*')\n",
        "f_files = glob.glob('trainingSet/trainingSet/5/*')\n",
        "g_files = glob.glob('trainingSet/trainingSet/6/*')\n",
        "h_files = glob.glob('trainingSet/trainingSet/7/*')\n",
        "i_files = glob.glob('trainingSet/trainingSet/8/*')\n",
        "j_files = glob.glob('trainingSet/trainingSet/9/*')"
      ],
      "execution_count": 0,
      "outputs": [
        {
          "output_type": "stream",
          "text": [
            "Using TensorFlow backend.\n"
          ],
          "name": "stderr"
        },
        {
          "output_type": "display_data",
          "data": {
            "text/html": [
              "<p style=\"color: red;\">\n",
              "The default version of TensorFlow in Colab will soon switch to TensorFlow 2.x.<br>\n",
              "We recommend you <a href=\"https://www.tensorflow.org/guide/migrate\" target=\"_blank\">upgrade</a> now \n",
              "or ensure your notebook will continue to use TensorFlow 1.x via the <code>%tensorflow_version 1.x</code> magic:\n",
              "<a href=\"https://colab.research.google.com/notebooks/tensorflow_version.ipynb\" target=\"_blank\">more info</a>.</p>\n"
            ],
            "text/plain": [
              "<IPython.core.display.HTML object>"
            ]
          },
          "metadata": {
            "tags": []
          }
        }
      ]
    },
    {
      "cell_type": "code",
      "metadata": {
        "id": "UD0MYrqskpyV",
        "colab_type": "code",
        "colab": {}
      },
      "source": [
        "A_files = [fn for fn in a_files ]+[fn for fn in c_files ]+[fn for fn in e_files ]+[fn for fn in g_files ]+[fn for fn in i_files ]\n",
        "B_files = [fn for fn in b_files ]+[fn for fn in d_files ]+[fn for fn in f_files ]+[fn for fn in h_files ]+[fn for fn in j_files ]"
      ],
      "execution_count": 0,
      "outputs": []
    },
    {
      "cell_type": "code",
      "metadata": {
        "id": "twQ_-DyJlPoB",
        "colab_type": "code",
        "colab": {}
      },
      "source": [
        "import shutil\n",
        "A_files = np.random.choice(A_files, size=20000, replace=False)\n",
        "B_files = np.random.choice(B_files, size=20000, replace=False)\n",
        "even_dir = 'even-data'\n",
        "odd_dir = 'odd-data'\n",
        "os.mkdir(even_dir) if not os.path.isdir(even_dir) else None\n",
        "os.mkdir(odd_dir) if not os.path.isdir(odd_dir) else None\n",
        "for fn in A_files:\n",
        "    shutil.copy(fn, even_dir)\n",
        "\n",
        "for fn in B_files:\n",
        "    shutil.copy(fn, odd_dir)"
      ],
      "execution_count": 0,
      "outputs": []
    },
    {
      "cell_type": "code",
      "metadata": {
        "id": "Pj5Qf7-ynY8N",
        "colab_type": "code",
        "colab": {}
      },
      "source": [
        "import os.path\n",
        "rootdir =\"even-data/\"       \n",
        "i=0\n",
        "for parent, dirnames, filenames in os.walk(rootdir):\n",
        "    for filename in filenames:\n",
        "       # print(os.path.join(parent, filename))  \n",
        "        newName=\"E\"+str(i)+\".jpg\"\n",
        "        os.rename(os.path.join(parent, filename), os.path.join(parent, newName))\n",
        "        i=i+1\n",
        "rootdir =\"odd-data/\"       \n",
        "i=0\n",
        "for parent, dirnames, filenames in os.walk(rootdir):\n",
        "    for filename in filenames:\n",
        "       # print(os.path.join(parent, filename))  \n",
        "        newName=\"O\"+str(i)+\".jpg\"\n",
        "        os.rename(os.path.join(parent, filename), os.path.join(parent, newName))\n",
        "        i=i+1"
      ],
      "execution_count": 0,
      "outputs": []
    },
    {
      "cell_type": "code",
      "metadata": {
        "id": "j9n3TOwFnzgF",
        "colab_type": "code",
        "colab": {}
      },
      "source": [
        "E_files = glob.glob('even-data/*')\n",
        "O_files = glob.glob('odd-data/*')\n",
        "e_files =[img for img in E_files]\n",
        "o_files =[img for img in O_files]\n",
        "e_train = np.random.choice(e_files, size=15000, replace=False)\n",
        "o_train = np.random.choice(o_files, size=15000, replace=False)\n",
        "e_files = list(set(e_files) - set(e_train))\n",
        "o_files = list(set(o_files) - set(o_train))\n",
        "e_val = np.random.choice(e_files, size=2000, replace=False)\n",
        "o_val = np.random.choice(o_files, size=2000, replace=False)\n",
        "e_files = list(set(e_files) - set(e_val))\n",
        "o_files = list(set(o_files) - set(o_val))\n",
        "e_test = np.random.choice(e_files, size=3000, replace=False)\n",
        "o_test = np.random.choice(o_files, size=3000, replace=False)\n",
        "train_dir = 'training-data'\n",
        "val_dir = 'validation-data'\n",
        "test_dir ='test-data'\n",
        "\n",
        "train_files = np.concatenate([e_train,o_train])\n",
        "validate_files = np.concatenate([e_val,o_val])\n",
        "test_files = np.concatenate([e_test,o_test])\n",
        "\n",
        "os.mkdir(train_dir) if not os.path.isdir(train_dir) else None\n",
        "os.mkdir(val_dir) if not os.path.isdir(val_dir) else None\n",
        "os.mkdir(test_dir) if not os.path.isdir(test_dir) else None\n",
        "\n",
        "for fn in train_files:\n",
        "    shutil.copy(fn, train_dir)\n",
        "\n",
        "for fn in validate_files:\n",
        "    shutil.copy(fn, val_dir)\n",
        "    \n",
        "for fn in test_files:\n",
        "    shutil.copy(fn, test_dir)    "
      ],
      "execution_count": 0,
      "outputs": []
    },
    {
      "cell_type": "code",
      "metadata": {
        "id": "dRg8_DJSqKsw",
        "colab_type": "code",
        "outputId": "6ae8fbad-eb47-4ede-9811-3495d2257c7f",
        "colab": {
          "base_uri": "https://localhost:8080/",
          "height": 54
        }
      },
      "source": [
        "image_size=(28,28)\n",
        "from keras import backend as K\n",
        "import cv2\n",
        "\n",
        "train_files = glob.glob('training-data/*')\n",
        "\n",
        "\n",
        "train_imgs = [img_to_array(load_img(img, color_mode='grayscale',target_size=image_size)) for img in train_files]\n",
        "validation_files = glob.glob('validation-data/*')\n",
        "validation_imgs = [img_to_array(load_img(img, color_mode='grayscale',target_size=image_size)) for img in validation_files]\n",
        "train_imgs = np.array(train_imgs)\n",
        "\n",
        "validation_imgs = np.array(validation_imgs)\n",
        "\n",
        "if K.image_data_format() == 'th':\n",
        "    train_imgs = train_imgs.reshape(train_imgs.shape[0], 1, 28,28)\n",
        "    validation_imgs = validation_imgs.reshape(validation_imgs.shape[0], 1,28,28)\n",
        "    input_shape = (1, 28,28)\n",
        "else:\n",
        "    train_imgs = train_imgs.reshape(train_imgs.shape[0], 28,28, 1)\n",
        "    validation_imgs = validation_imgs.reshape(validation_imgs.shape[0], 28,28, 1)\n",
        "    input_shape = (28,28, 1)\n",
        "\n",
        "\n",
        "train_labels = [fn.split('/')[1].strip()[0:1] for fn in train_files]\n",
        "\n",
        "validation_labels = [fn.split('/')[1].strip()[0:1] for fn in validation_files]\n",
        "\n",
        "print('Train dataset shape:', train_imgs.shape, \n",
        "      '\\tValidation dataset shape:', validation_imgs.shape,\n",
        "      '\\tprint_train_labels[795:805]',train_labels[795:805])"
      ],
      "execution_count": 0,
      "outputs": [
        {
          "output_type": "stream",
          "text": [
            "Train dataset shape: (30000, 28, 28, 1) \tValidation dataset shape: (4000, 28, 28, 1) \tprint_train_labels[795:805] ['E', 'E', 'E', 'O', 'E', 'O', 'E', 'E', 'E', 'O']\n"
          ],
          "name": "stdout"
        }
      ]
    },
    {
      "cell_type": "code",
      "metadata": {
        "id": "id2vb0qarnov",
        "colab_type": "code",
        "colab": {}
      },
      "source": [
        "num_classes = 2\n",
        "epochs = 50\n",
        "input_shape = (100, 100,1)\n",
        "\n",
        "# encode text category labels\n",
        "from sklearn.preprocessing import OneHotEncoder, LabelEncoder\n",
        "\n",
        "train_labels_array = np.array(train_labels)\n",
        "# integer encode\n",
        "le = LabelEncoder()\n",
        "train_integer_encoded = le.fit_transform(train_labels_array)\n",
        "\n",
        "validation_labels_array = np.array(validation_labels)\n",
        "\n",
        "validation_integer_encoded = le.fit_transform(validation_labels_array)"
      ],
      "execution_count": 0,
      "outputs": []
    },
    {
      "cell_type": "code",
      "metadata": {
        "id": "fs89xiLnrqjC",
        "colab_type": "code",
        "colab": {}
      },
      "source": [
        "trdata = ImageDataGenerator(rescale=1./255, zoom_range=0.2, rotation_range=50,\n",
        "                                   width_shift_range=0.2, height_shift_range=0.2, shear_range=0.2, \n",
        "                                   horizontal_flip=True, fill_mode='nearest')\n",
        "traindata = trdata.flow(train_imgs,train_integer_encoded,batch_size=150)\n",
        "valdata = ImageDataGenerator(rescale=1./255)\n",
        "validationdata = valdata.flow(validation_imgs ,validation_integer_encoded,batch_size=100)"
      ],
      "execution_count": 0,
      "outputs": []
    },
    {
      "cell_type": "code",
      "metadata": {
        "id": "NItc9UBlsFKs",
        "colab_type": "code",
        "outputId": "01e2bc3b-2e18-4bf9-acf2-311c0705247c",
        "colab": {
          "base_uri": "https://localhost:8080/",
          "height": 709
        }
      },
      "source": [
        "from keras import layers\n",
        "from keras.models import Model\n",
        "\n",
        "def lenet_5(in_shape=(28,28,1), n_classes=2, opt='sgd'):\n",
        "    in_layer = layers.Input(in_shape)\n",
        "    conv1 = layers.Conv2D(filters=20, kernel_size=5,\n",
        "                          padding='same', activation='relu')(in_layer)\n",
        "    pool1 = layers.MaxPool2D()(conv1)\n",
        "    conv2 = layers.Conv2D(filters=50, kernel_size=5,\n",
        "                          padding='same', activation='relu')(pool1)\n",
        "    pool2 = layers.MaxPool2D()(conv2)\n",
        "    flatten = layers.Flatten()(pool2)\n",
        "    dense1 = layers.Dense(500, activation='relu')(flatten)\n",
        "    preds = layers.Dense(1, activation='sigmoid')(dense1)\n",
        "\n",
        "    model = Model(in_layer, preds)\n",
        "    model.compile(loss=\"binary_crossentropy\", optimizer=opt,\n",
        "\t              metrics=[\"accuracy\"])\n",
        "    return model\n",
        "\n",
        "if __name__ == '__main__':\n",
        "    model = lenet_5()\n",
        "    print(model.summary())"
      ],
      "execution_count": 0,
      "outputs": [
        {
          "output_type": "stream",
          "text": [
            "WARNING:tensorflow:From /usr/local/lib/python3.6/dist-packages/keras/backend/tensorflow_backend.py:66: The name tf.get_default_graph is deprecated. Please use tf.compat.v1.get_default_graph instead.\n",
            "\n",
            "WARNING:tensorflow:From /usr/local/lib/python3.6/dist-packages/keras/backend/tensorflow_backend.py:541: The name tf.placeholder is deprecated. Please use tf.compat.v1.placeholder instead.\n",
            "\n",
            "WARNING:tensorflow:From /usr/local/lib/python3.6/dist-packages/keras/backend/tensorflow_backend.py:4432: The name tf.random_uniform is deprecated. Please use tf.random.uniform instead.\n",
            "\n",
            "WARNING:tensorflow:From /usr/local/lib/python3.6/dist-packages/keras/backend/tensorflow_backend.py:4267: The name tf.nn.max_pool is deprecated. Please use tf.nn.max_pool2d instead.\n",
            "\n",
            "WARNING:tensorflow:From /usr/local/lib/python3.6/dist-packages/keras/optimizers.py:793: The name tf.train.Optimizer is deprecated. Please use tf.compat.v1.train.Optimizer instead.\n",
            "\n",
            "WARNING:tensorflow:From /usr/local/lib/python3.6/dist-packages/keras/backend/tensorflow_backend.py:3657: The name tf.log is deprecated. Please use tf.math.log instead.\n",
            "\n",
            "WARNING:tensorflow:From /usr/local/lib/python3.6/dist-packages/tensorflow_core/python/ops/nn_impl.py:183: where (from tensorflow.python.ops.array_ops) is deprecated and will be removed in a future version.\n",
            "Instructions for updating:\n",
            "Use tf.where in 2.0, which has the same broadcast rule as np.where\n",
            "Model: \"model_1\"\n",
            "_________________________________________________________________\n",
            "Layer (type)                 Output Shape              Param #   \n",
            "=================================================================\n",
            "input_1 (InputLayer)         (None, 28, 28, 1)         0         \n",
            "_________________________________________________________________\n",
            "conv2d_1 (Conv2D)            (None, 28, 28, 20)        520       \n",
            "_________________________________________________________________\n",
            "max_pooling2d_1 (MaxPooling2 (None, 14, 14, 20)        0         \n",
            "_________________________________________________________________\n",
            "conv2d_2 (Conv2D)            (None, 14, 14, 50)        25050     \n",
            "_________________________________________________________________\n",
            "max_pooling2d_2 (MaxPooling2 (None, 7, 7, 50)          0         \n",
            "_________________________________________________________________\n",
            "flatten_1 (Flatten)          (None, 2450)              0         \n",
            "_________________________________________________________________\n",
            "dense_1 (Dense)              (None, 500)               1225500   \n",
            "_________________________________________________________________\n",
            "dense_2 (Dense)              (None, 1)                 501       \n",
            "=================================================================\n",
            "Total params: 1,251,571\n",
            "Trainable params: 1,251,571\n",
            "Non-trainable params: 0\n",
            "_________________________________________________________________\n",
            "None\n"
          ],
          "name": "stdout"
        }
      ]
    },
    {
      "cell_type": "code",
      "metadata": {
        "id": "wrs1lPlPsTBu",
        "colab_type": "code",
        "outputId": "a1fa1962-3738-4068-9c10-292bd0a4636f",
        "colab": {
          "base_uri": "https://localhost:8080/",
          "height": 1000
        }
      },
      "source": [
        "from keras.callbacks import ModelCheckpoint, EarlyStopping\n",
        "checkpoint = ModelCheckpoint(\"lenet_mnist.h5\",monitor='val_acc',verbose=1,save_best_only=True,\n",
        "                             save_weights_only= False,\n",
        "                             mode ='auto',period=1)\n",
        "early = EarlyStopping(monitor='val_acc',min_delta=0,patience=20,verbose=1,mode='auto')\n",
        "\n",
        "             \n",
        "history = model.fit_generator(traindata, steps_per_epoch=200, epochs=50,\n",
        "                              validation_data=validationdata, validation_steps=40, \n",
        "                              callbacks=[checkpoint,early]\n",
        "                              \n",
        "                              )  \n",
        "import matplotlib.pyplot as plt\n",
        "plt.plot(history.history[\"acc\"])\n",
        "plt.plot(history.history[\"val_acc\"])\n",
        "plt.plot(history.history[\"loss\"]) \n",
        "plt.plot(history.history[\"val_loss\"]) \n",
        "plt.title(\"model ACC\")\n",
        "plt.ylabel(\"ACC\")\n",
        "plt.xlabel(\"Epoch\")\n",
        "plt.legend([\"Accuracy\",\"Validation Accuracy\",\"loss\",\"Validation loss\"])\n",
        "plt.show()"
      ],
      "execution_count": 0,
      "outputs": [
        {
          "output_type": "stream",
          "text": [
            "WARNING:tensorflow:From /usr/local/lib/python3.6/dist-packages/keras/backend/tensorflow_backend.py:1033: The name tf.assign_add is deprecated. Please use tf.compat.v1.assign_add instead.\n",
            "\n",
            "WARNING:tensorflow:From /usr/local/lib/python3.6/dist-packages/keras/backend/tensorflow_backend.py:1020: The name tf.assign is deprecated. Please use tf.compat.v1.assign instead.\n",
            "\n",
            "WARNING:tensorflow:From /usr/local/lib/python3.6/dist-packages/keras/backend/tensorflow_backend.py:3005: The name tf.Session is deprecated. Please use tf.compat.v1.Session instead.\n",
            "\n",
            "Epoch 1/50\n",
            "WARNING:tensorflow:From /usr/local/lib/python3.6/dist-packages/keras/backend/tensorflow_backend.py:190: The name tf.get_default_session is deprecated. Please use tf.compat.v1.get_default_session instead.\n",
            "\n",
            "WARNING:tensorflow:From /usr/local/lib/python3.6/dist-packages/keras/backend/tensorflow_backend.py:197: The name tf.ConfigProto is deprecated. Please use tf.compat.v1.ConfigProto instead.\n",
            "\n",
            "WARNING:tensorflow:From /usr/local/lib/python3.6/dist-packages/keras/backend/tensorflow_backend.py:207: The name tf.global_variables is deprecated. Please use tf.compat.v1.global_variables instead.\n",
            "\n",
            "WARNING:tensorflow:From /usr/local/lib/python3.6/dist-packages/keras/backend/tensorflow_backend.py:216: The name tf.is_variable_initialized is deprecated. Please use tf.compat.v1.is_variable_initialized instead.\n",
            "\n",
            "WARNING:tensorflow:From /usr/local/lib/python3.6/dist-packages/keras/backend/tensorflow_backend.py:223: The name tf.variables_initializer is deprecated. Please use tf.compat.v1.variables_initializer instead.\n",
            "\n",
            "200/200 [==============================] - 23s 113ms/step - loss: 0.6829 - acc: 0.5612 - val_loss: 0.6583 - val_acc: 0.6197\n",
            "\n",
            "Epoch 00001: val_acc improved from -inf to 0.61975, saving model to lenet_mnist.h5\n",
            "Epoch 2/50\n",
            "200/200 [==============================] - 8s 39ms/step - loss: 0.6650 - acc: 0.6225 - val_loss: 0.6144 - val_acc: 0.7278\n",
            "\n",
            "Epoch 00002: val_acc improved from 0.61975 to 0.72775, saving model to lenet_mnist.h5\n",
            "Epoch 3/50\n",
            "200/200 [==============================] - 8s 40ms/step - loss: 0.6394 - acc: 0.6608 - val_loss: 0.5636 - val_acc: 0.7472\n",
            "\n",
            "Epoch 00003: val_acc improved from 0.72775 to 0.74725, saving model to lenet_mnist.h5\n",
            "Epoch 4/50\n",
            "200/200 [==============================] - 8s 40ms/step - loss: 0.6168 - acc: 0.6694 - val_loss: 0.5282 - val_acc: 0.7660\n",
            "\n",
            "Epoch 00004: val_acc improved from 0.74725 to 0.76600, saving model to lenet_mnist.h5\n",
            "Epoch 5/50\n",
            "200/200 [==============================] - 8s 40ms/step - loss: 0.5911 - acc: 0.6897 - val_loss: 0.5221 - val_acc: 0.7422\n",
            "\n",
            "Epoch 00005: val_acc did not improve from 0.76600\n",
            "Epoch 6/50\n",
            "200/200 [==============================] - 8s 41ms/step - loss: 0.5732 - acc: 0.7005 - val_loss: 0.4914 - val_acc: 0.7757\n",
            "\n",
            "Epoch 00006: val_acc improved from 0.76600 to 0.77575, saving model to lenet_mnist.h5\n",
            "Epoch 7/50\n",
            "200/200 [==============================] - 8s 40ms/step - loss: 0.5520 - acc: 0.7192 - val_loss: 0.4785 - val_acc: 0.7995\n",
            "\n",
            "Epoch 00007: val_acc improved from 0.77575 to 0.79950, saving model to lenet_mnist.h5\n",
            "Epoch 8/50\n",
            "200/200 [==============================] - 8s 39ms/step - loss: 0.5341 - acc: 0.7334 - val_loss: 0.5677 - val_acc: 0.6680\n",
            "\n",
            "Epoch 00008: val_acc did not improve from 0.79950\n",
            "Epoch 9/50\n",
            "200/200 [==============================] - 8s 39ms/step - loss: 0.5234 - acc: 0.7409 - val_loss: 0.4299 - val_acc: 0.8160\n",
            "\n",
            "Epoch 00009: val_acc improved from 0.79950 to 0.81600, saving model to lenet_mnist.h5\n",
            "Epoch 10/50\n",
            "200/200 [==============================] - 8s 39ms/step - loss: 0.5106 - acc: 0.7525 - val_loss: 0.4285 - val_acc: 0.7937\n",
            "\n",
            "Epoch 00010: val_acc did not improve from 0.81600\n",
            "Epoch 11/50\n",
            "200/200 [==============================] - 8s 39ms/step - loss: 0.5051 - acc: 0.7561 - val_loss: 0.4045 - val_acc: 0.8225\n",
            "\n",
            "Epoch 00011: val_acc improved from 0.81600 to 0.82250, saving model to lenet_mnist.h5\n",
            "Epoch 12/50\n",
            "200/200 [==============================] - 8s 40ms/step - loss: 0.4927 - acc: 0.7656 - val_loss: 0.3685 - val_acc: 0.8622\n",
            "\n",
            "Epoch 00012: val_acc improved from 0.82250 to 0.86225, saving model to lenet_mnist.h5\n",
            "Epoch 13/50\n",
            "200/200 [==============================] - 8s 40ms/step - loss: 0.4788 - acc: 0.7754 - val_loss: 0.4016 - val_acc: 0.8447\n",
            "\n",
            "Epoch 00013: val_acc did not improve from 0.86225\n",
            "Epoch 14/50\n",
            "200/200 [==============================] - 8s 40ms/step - loss: 0.4725 - acc: 0.7776 - val_loss: 0.3505 - val_acc: 0.8510\n",
            "\n",
            "Epoch 00014: val_acc did not improve from 0.86225\n",
            "Epoch 15/50\n",
            "200/200 [==============================] - 8s 39ms/step - loss: 0.4681 - acc: 0.7819 - val_loss: 0.3419 - val_acc: 0.8818\n",
            "\n",
            "Epoch 00015: val_acc improved from 0.86225 to 0.88175, saving model to lenet_mnist.h5\n",
            "Epoch 16/50\n",
            "200/200 [==============================] - 8s 39ms/step - loss: 0.4554 - acc: 0.7897 - val_loss: 0.3242 - val_acc: 0.8650\n",
            "\n",
            "Epoch 00016: val_acc did not improve from 0.88175\n",
            "Epoch 17/50\n",
            "200/200 [==============================] - 8s 40ms/step - loss: 0.4460 - acc: 0.7962 - val_loss: 0.3219 - val_acc: 0.8620\n",
            "\n",
            "Epoch 00017: val_acc did not improve from 0.88175\n",
            "Epoch 18/50\n",
            "200/200 [==============================] - 8s 39ms/step - loss: 0.4390 - acc: 0.8014 - val_loss: 0.5457 - val_acc: 0.7035\n",
            "\n",
            "Epoch 00018: val_acc did not improve from 0.88175\n",
            "Epoch 19/50\n",
            "200/200 [==============================] - 8s 39ms/step - loss: 0.4329 - acc: 0.8047 - val_loss: 0.2922 - val_acc: 0.8888\n",
            "\n",
            "Epoch 00019: val_acc improved from 0.88175 to 0.88875, saving model to lenet_mnist.h5\n",
            "Epoch 20/50\n",
            "200/200 [==============================] - 8s 39ms/step - loss: 0.4210 - acc: 0.8127 - val_loss: 0.2840 - val_acc: 0.9015\n",
            "\n",
            "Epoch 00020: val_acc improved from 0.88875 to 0.90150, saving model to lenet_mnist.h5\n",
            "Epoch 21/50\n",
            "200/200 [==============================] - 8s 41ms/step - loss: 0.4222 - acc: 0.8134 - val_loss: 0.2985 - val_acc: 0.8683\n",
            "\n",
            "Epoch 00021: val_acc did not improve from 0.90150\n",
            "Epoch 22/50\n",
            "200/200 [==============================] - 8s 41ms/step - loss: 0.4159 - acc: 0.8143 - val_loss: 0.3464 - val_acc: 0.8290\n",
            "\n",
            "Epoch 00022: val_acc did not improve from 0.90150\n",
            "Epoch 23/50\n",
            "200/200 [==============================] - 8s 40ms/step - loss: 0.4061 - acc: 0.8191 - val_loss: 0.2597 - val_acc: 0.9103\n",
            "\n",
            "Epoch 00023: val_acc improved from 0.90150 to 0.91025, saving model to lenet_mnist.h5\n",
            "Epoch 24/50\n",
            "200/200 [==============================] - 8s 40ms/step - loss: 0.3979 - acc: 0.8237 - val_loss: 0.2640 - val_acc: 0.9115\n",
            "\n",
            "Epoch 00024: val_acc improved from 0.91025 to 0.91150, saving model to lenet_mnist.h5\n",
            "Epoch 25/50\n",
            "200/200 [==============================] - 8s 40ms/step - loss: 0.3922 - acc: 0.8280 - val_loss: 0.2514 - val_acc: 0.9145\n",
            "\n",
            "Epoch 00025: val_acc improved from 0.91150 to 0.91450, saving model to lenet_mnist.h5\n",
            "Epoch 26/50\n",
            "200/200 [==============================] - 8s 42ms/step - loss: 0.3914 - acc: 0.8286 - val_loss: 0.2389 - val_acc: 0.9195\n",
            "\n",
            "Epoch 00026: val_acc improved from 0.91450 to 0.91950, saving model to lenet_mnist.h5\n",
            "Epoch 27/50\n",
            "200/200 [==============================] - 8s 41ms/step - loss: 0.3880 - acc: 0.8303 - val_loss: 0.2765 - val_acc: 0.8770\n",
            "\n",
            "Epoch 00027: val_acc did not improve from 0.91950\n",
            "Epoch 28/50\n",
            "200/200 [==============================] - 8s 39ms/step - loss: 0.3745 - acc: 0.8404 - val_loss: 0.2327 - val_acc: 0.9193\n",
            "\n",
            "Epoch 00028: val_acc did not improve from 0.91950\n",
            "Epoch 29/50\n",
            "200/200 [==============================] - 8s 42ms/step - loss: 0.3809 - acc: 0.8359 - val_loss: 0.2341 - val_acc: 0.9128\n",
            "\n",
            "Epoch 00029: val_acc did not improve from 0.91950\n",
            "Epoch 30/50\n",
            "200/200 [==============================] - 8s 41ms/step - loss: 0.3611 - acc: 0.8450 - val_loss: 0.2183 - val_acc: 0.9245\n",
            "\n",
            "Epoch 00030: val_acc improved from 0.91950 to 0.92450, saving model to lenet_mnist.h5\n",
            "Epoch 31/50\n",
            "200/200 [==============================] - 8s 42ms/step - loss: 0.3587 - acc: 0.8465 - val_loss: 0.2238 - val_acc: 0.9147\n",
            "\n",
            "Epoch 00031: val_acc did not improve from 0.92450\n",
            "Epoch 32/50\n",
            "200/200 [==============================] - 8s 42ms/step - loss: 0.3605 - acc: 0.8447 - val_loss: 0.2381 - val_acc: 0.9008\n",
            "\n",
            "Epoch 00032: val_acc did not improve from 0.92450\n",
            "Epoch 33/50\n",
            "200/200 [==============================] - 8s 41ms/step - loss: 0.3557 - acc: 0.8478 - val_loss: 0.3155 - val_acc: 0.8535\n",
            "\n",
            "Epoch 00033: val_acc did not improve from 0.92450\n",
            "Epoch 34/50\n",
            "200/200 [==============================] - 8s 40ms/step - loss: 0.3472 - acc: 0.8516 - val_loss: 0.2474 - val_acc: 0.8957\n",
            "\n",
            "Epoch 00034: val_acc did not improve from 0.92450\n",
            "Epoch 35/50\n",
            "200/200 [==============================] - 8s 40ms/step - loss: 0.3438 - acc: 0.8541 - val_loss: 0.2195 - val_acc: 0.9112\n",
            "\n",
            "Epoch 00035: val_acc did not improve from 0.92450\n",
            "Epoch 36/50\n",
            "200/200 [==============================] - 8s 41ms/step - loss: 0.3389 - acc: 0.8568 - val_loss: 0.2020 - val_acc: 0.9298\n",
            "\n",
            "Epoch 00036: val_acc improved from 0.92450 to 0.92975, saving model to lenet_mnist.h5\n",
            "Epoch 37/50\n",
            "200/200 [==============================] - 8s 41ms/step - loss: 0.3342 - acc: 0.8591 - val_loss: 0.2156 - val_acc: 0.9145\n",
            "\n",
            "Epoch 00037: val_acc did not improve from 0.92975\n",
            "Epoch 38/50\n",
            "200/200 [==============================] - 9s 43ms/step - loss: 0.3334 - acc: 0.8608 - val_loss: 0.2232 - val_acc: 0.9097\n",
            "\n",
            "Epoch 00038: val_acc did not improve from 0.92975\n",
            "Epoch 39/50\n",
            "200/200 [==============================] - 8s 42ms/step - loss: 0.3284 - acc: 0.8612 - val_loss: 0.2038 - val_acc: 0.9233\n",
            "\n",
            "Epoch 00039: val_acc did not improve from 0.92975\n",
            "Epoch 40/50\n",
            "200/200 [==============================] - 8s 41ms/step - loss: 0.3233 - acc: 0.8664 - val_loss: 0.2191 - val_acc: 0.9140\n",
            "\n",
            "Epoch 00040: val_acc did not improve from 0.92975\n",
            "Epoch 41/50\n",
            "200/200 [==============================] - 8s 42ms/step - loss: 0.3142 - acc: 0.8728 - val_loss: 0.1889 - val_acc: 0.9320\n",
            "\n",
            "Epoch 00041: val_acc improved from 0.92975 to 0.93200, saving model to lenet_mnist.h5\n",
            "Epoch 42/50\n",
            "200/200 [==============================] - 8s 42ms/step - loss: 0.3128 - acc: 0.8713 - val_loss: 0.2271 - val_acc: 0.9058\n",
            "\n",
            "Epoch 00042: val_acc did not improve from 0.93200\n",
            "Epoch 43/50\n",
            "200/200 [==============================] - 8s 40ms/step - loss: 0.3061 - acc: 0.8731 - val_loss: 0.2208 - val_acc: 0.9070\n",
            "\n",
            "Epoch 00043: val_acc did not improve from 0.93200\n",
            "Epoch 44/50\n",
            "200/200 [==============================] - 8s 41ms/step - loss: 0.3087 - acc: 0.8725 - val_loss: 0.1930 - val_acc: 0.9305\n",
            "\n",
            "Epoch 00044: val_acc did not improve from 0.93200\n",
            "Epoch 45/50\n",
            "200/200 [==============================] - 8s 41ms/step - loss: 0.2985 - acc: 0.8774 - val_loss: 0.2311 - val_acc: 0.9157\n",
            "\n",
            "Epoch 00045: val_acc did not improve from 0.93200\n",
            "Epoch 46/50\n",
            "200/200 [==============================] - 8s 41ms/step - loss: 0.2966 - acc: 0.8774 - val_loss: 0.1864 - val_acc: 0.9322\n",
            "\n",
            "Epoch 00046: val_acc improved from 0.93200 to 0.93225, saving model to lenet_mnist.h5\n",
            "Epoch 47/50\n",
            "200/200 [==============================] - 8s 42ms/step - loss: 0.2902 - acc: 0.8825 - val_loss: 0.1939 - val_acc: 0.9248\n",
            "\n",
            "Epoch 00047: val_acc did not improve from 0.93225\n",
            "Epoch 48/50\n",
            "200/200 [==============================] - 8s 41ms/step - loss: 0.2848 - acc: 0.8856 - val_loss: 0.1904 - val_acc: 0.9270\n",
            "\n",
            "Epoch 00048: val_acc did not improve from 0.93225\n",
            "Epoch 49/50\n",
            "200/200 [==============================] - 8s 41ms/step - loss: 0.2880 - acc: 0.8829 - val_loss: 0.1715 - val_acc: 0.9368\n",
            "\n",
            "Epoch 00049: val_acc improved from 0.93225 to 0.93675, saving model to lenet_mnist.h5\n",
            "Epoch 50/50\n",
            "200/200 [==============================] - 8s 41ms/step - loss: 0.2802 - acc: 0.8860 - val_loss: 0.1674 - val_acc: 0.9393\n",
            "\n",
            "Epoch 00050: val_acc improved from 0.93675 to 0.93925, saving model to lenet_mnist.h5\n"
          ],
          "name": "stdout"
        },
        {
          "output_type": "display_data",
          "data": {
            "image/png": "[encoded data removed]",
            "text/plain": [
              "<Figure size 432x288 with 1 Axes>"
            ]
          },
          "metadata": {
            "tags": []
          }
        }
      ]
    },
    {
      "cell_type": "code",
      "metadata": {
        "id": "7OdgzhC6t7xD",
        "colab_type": "code",
        "outputId": "c4cf4608-6bc6-45b9-f5a0-47c545ef3228",
        "colab": {
          "base_uri": "https://localhost:8080/",
          "height": 50
        }
      },
      "source": [
        "from keras.models import load_model\n",
        "import model_evaluation_utils as meu\n",
        "basic_cnn= load_model('lenet_mnist.h5')\n",
        "test_files = glob.glob('test-data/*')\n",
        "\n",
        "\n",
        "test_imgs = [img_to_array(load_img(img, color_mode='grayscale', target_size=(28,28))) for img in test_files]\n",
        "\n",
        "test_imgs = np.array(test_imgs)\n",
        "\n",
        "test_labels = [fn.split('/')[1].strip()[0:1] for fn in test_files]\n",
        "test_imgs_scaled = test_imgs.astype('float32')\n",
        "\n",
        "test_imgs_scaled /= 255\n",
        "from sklearn.preprocessing import OneHotEncoder, LabelEncoder\n",
        "\n",
        "test_labels_array = np.array(test_labels)\n",
        "# integer encode\n",
        "le = LabelEncoder()\n",
        "test_integer_encoded = le.fit_transform(test_labels_array)\n",
        "\n",
        "\n",
        "print('Test dataset shape:', test_imgs.shape)\n",
        "\n",
        "print(test_integer_encoded[0:5])"
      ],
      "execution_count": 0,
      "outputs": [
        {
          "output_type": "stream",
          "text": [
            "Test dataset shape: (6000, 28, 28, 1)\n",
            "[0 0 0 1 1]\n"
          ],
          "name": "stdout"
        }
      ]
    },
    {
      "cell_type": "code",
      "metadata": {
        "id": "-i5zYB6xua8J",
        "colab_type": "code",
        "outputId": "cdb56c1b-871c-4876-cd9d-09879f7a3db2",
        "colab": {
          "base_uri": "https://localhost:8080/",
          "height": 541
        }
      },
      "source": [
        "num2class_label_transformer = lambda l: ['E' if x < 0.5 else 'O' for x in l]\n",
        "\n",
        "\n",
        "predictions = basic_cnn.predict(test_imgs_scaled, verbose=0)\n",
        "predictions = num2class_label_transformer(predictions)\n",
        "print(predictions)\n",
        "\n",
        "\n",
        "\n",
        "meu.display_model_performance_metrics(true_labels=test_labels, predicted_labels=predictions, \n",
        "\n",
        "                                      classes=list(set(test_labels)))"
      ],
      "execution_count": 0,
      "outputs": [
        {
          "output_type": "stream",
          "text": [
            "['E', 'E', 'E', 'O', 'O', 'O', 'O', 'O', 'E', 'O', 'E', 'E', 'E', 'E', 'O', 'E', 'E', 'E', 'E', 'E', 'E', 'O', 'O', 'O', 'O', 'E', 'E', 'E', 'O', 'O', 'O', 'E', 'E', 'O', 'E', 'E', 'O', 'E', 'O', 'E', 'O', 'E', 'E', 'E', 'E', 'E', 'E', 'O', 'E', 'O', 'E', 'O', 'O', 'E', 'E', 'O', 'E', 'O', 'E', 'O', 'E', 'O', 'O', 'O', 'E', 'E', 'O', 'E', 'O', 'O', 'O', 'E', 'O', 'E', 'O', 'O', 'O', 'E', 'O', 'O', 'O', 'O', 'O', 'E', 'E', 'O', 'O', 'O', 'O', 'E', 'O', 'O', 'O', 'E', 'E', 'E', 'O', 'E', 'E', 'E', 'O', 'O', 'E', 'O', 'E', 'O', 'E', 'O', 'E', 'E', 'O', 'E', 'O', 'O', 'E', 'E', 'O', 'O', 'O', 'E', 'E', 'E', 'O', 'E', 'O', 'O', 'O', 'O', 'O', 'O', 'E', 'O', 'O', 'O', 'E', 'E', 'E', 'E', 'O', 'O', 'E', 'O', 'E', 'E', 'E', 'E', 'O', 'O', 'E', 'E', 'E', 'E', 'O', 'O', 'O', 'O', 'O', 'E', 'E', 'O', 'O', 'O', 'O', 'E', 'E', 'O', 'O', 'O', 'O', 'E', 'E', 'E', 'E', 'E', 'E', 'E', 'O', 'O', 'O', 'O', 'O', 'O', 'E', 'O', 'E', 'O', 'O', 'O', 'E', 'O', 'O', 'O', 'O', 'O', 'O', 'E', 'O', 'O', 'E', 'E', 'E', 'E', 'E', 'E', 'O', 'O', 'E', 'O', 'E', 'E', 'E', 'O', 'E', 'O', 'O', 'E', 'O', 'E', 'E', 'O', 'O', 'E', 'O', 'O', 'O', 'E', 'O', 'O', 'O', 'O', 'E', 'O', 'O', 'O', 'E', 'O', 'O', 'O', 'E', 'E', 'E', 'O', 'E', 'E', 'E', 'E', 'E', 'E', 'O', 'O', 'E', 'E', 'O', 'O', 'O', 'E', 'O', 'E', 'O', 'O', 'E', 'E', 'E', 'O', 'E', 'E', 'E', 'E', 'E', 'E', 'E', 'E', 'O', 'O', 'O', 'E', 'O', 'E', 'O', 'E', 'E', 'O', 'E', 'O', 'O', 'E', 'O', 'O', 'O', 'O', 'E', 'E', 'E', 'E', 'O', 'O', 'E', 'O', 'E', 'E', 'E', 'E', 'E', 'E', 'E', 'O', 'O', 'O', 'O', 'E', 'O', 'E', 'E', 'O', 'O', 'O', 'E', 'E', 'E', 'E', 'O', 'E', 'O', 'E', 'O', 'O', 'E', 'E', 'E', 'E', 'E', 'O', 'O', 'E', 'E', 'O', 'E', 'E', 'O', 'E', 'O', 'E', 'O', 'O', 'E', 'O', 'O', 'O', 'E', 'O', 'O', 'E', 'O', 'O', 'O', 'E', 'O', 'O', 'E', 'O', 'O', 'O', 'O', 'E', 'O', 'O', 'O', 'E', 'E', 'E', 'O', 'E', 'E', 'E', 'O', 'O', 'O', 'E', 'O', 'O', 'O', 'O', 'O', 'E', 'E', 'E', 'E', 'E', 'O', 'O', 'O', 'E', 'E', 'O', 'O', 'O', 'E', 'E', 'O', 'O', 'O', 'E', 'O', 'O', 'E', 'O', 'E', 'E', 'E', 'E', 'E', 'E', 'O', 'E', 'O', 'O', 'O', 'E', 'O', 'O', 'O', 'E', 'E', 'O', 'E', 'O', 'O', 'O', 'O', 'E', 'E', 'E', 'E', 'O', 'E', 'E', 'O', 'O', 'E', 'O', 'E', 'E', 'E', 'E', 'E', 'E', 'O', 'E', 'E', 'E', 'O', 'O', 'E', 'E', 'E', 'E', 'E', 'O', 'E', 'O', 'O', 'O', 'O', 'E', 'E', 'E', 'E', 'O', 'E', 'O', 'E', 'E', 'E', 'O', 'E', 'O', 'E', 'O', 'O', 'E', 'O', 'E', 'O', 'E', 'E', 'O', 'O', 'E', 'E', 'E', 'E', 'E', 'O', 'O', 'E', 'E', 'O', 'O', 'E', 'E', 'O', 'O', 'E', 'O', 'E', 'E', 'E', 'O', 'O', 'O', 'E', 'O', 'O', 'E', 'O', 'O', 'O', 'E', 'E', 'O', 'O', 'O', 'O', 'O', 'O', 'O', 'O', 'E', 'O', 'O', 'E', 'O', 'O', 'O', 'E', 'O', 'O', 'O', 'E', 'E', 'E', 'E', 'O', 'E', 'E', 'O', 'E', 'O', 'E', 'O', 'E', 'O', 'E', 'O', 'O', 'O', 'E', 'O', 'E', 'E', 'E', 'E', 'E', 'O', 'E', 'E', 'E', 'O', 'E', 'O', 'O', 'O', 'O', 'O', 'O', 'E', 'E', 'E', 'O', 'O', 'O', 'E', 'E', 'E', 'E', 'O', 'E', 'O', 'E', 'O', 'E', 'O', 'O', 'O', 'E', 'E', 'O', 'E', 'O', 'O', 'O', 'O', 'O', 'O', 'E', 'O', 'E', 'O', 'O', 'E', 'O', 'O', 'E', 'O', 'O', 'E', 'O', 'O', 'O', 'O', 'O', 'O', 'E', 'O', 'O', 'O', 'O', 'O', 'O', 'E', 'O', 'O', 'E', 'O', 'O', 'O', 'E', 'O', 'O', 'E', 'E', 'O', 'O', 'E', 'E', 'O', 'O', 'E', 'E', 'E', 'E', 'O', 'O', 'E', 'O', 'O', 'O', 'O', 'E', 'E', 'E', 'E', 'E', 'E', 'O', 'O', 'E', 'O', 'O', 'E', 'E', 'E', 'O', 'E', 'O', 'O', 'E', 'E', 'O', 'O', 'E', 'E', 'O', 'E', 'E', 'E', 'O', 'E', 'O', 'O', 'E', 'O', 'E', 'O', 'O', 'E', 'O', 'E', 'O', 'E', 'O', 'O', 'O', 'O', 'O', 'E', 'O', 'O', 'O', 'E', 'O', 'E', 'E', 'E', 'O', 'O', 'O', 'E', 'O', 'E', 'O', 'E', 'E', 'O', 'O', 'O', 'E', 'E', 'O', 'E', 'E', 'E', 'E', 'O', 'E', 'O', 'E', 'E', 'E', 'O', 'O', 'E', 'O', 'O', 'E', 'O', 'E', 'O', 'O', 'O', 'O', 'E', 'E', 'O', 'E', 'E', 'E', 'E', 'O', 'O', 'E', 'E', 'O', 'E', 'E', 'E', 'O', 'E', 'E', 'E', 'E', 'O', 'E', 'E', 'O', 'O', 'O', 'E', 'E', 'O', 'E', 'E', 'O', 'O', 'E', 'O', 'E', 'E', 'O', 'E', 'E', 'O', 'E', 'O', 'O', 'E', 'E', 'O', 'O', 'O', 'E', 'E', 'E', 'O', 'E', 'O', 'E', 'E', 'O', 'O', 'E', 'O', 'E', 'E', 'O', 'O', 'E', 'E', 'O', 'E', 'E', 'O', 'O', 'E', 'O', 'E', 'O', 'E', 'E', 'E', 'E', 'E', 'O', 'O', 'E', 'E', 'E', 'E', 'O', 'E', 'E', 'E', 'E', 'E', 'E', 'E', 'O', 'E', 'E', 'O', 'E', 'E', 'O', 'O', 'O', 'E', 'E', 'E', 'E', 'E', 'E', 'E', 'E', 'E', 'O', 'O', 'E', 'E', 'E', 'O', 'E', 'E', 'O', 'E', 'O', 'E', 'E', 'O', 'E', 'O', 'E', 'O', 'O', 'E', 'O', 'E', 'O', 'E', 'O', 'O', 'O', 'O', 'O', 'E', 'E', 'E', 'E', 'O', 'O', 'O', 'E', 'O', 'O', 'O', 'O', 'O', 'O', 'E', 'E', 'O', 'E', 'E', 'E', 'O', 'O', 'E', 'E', 'E', 'O', 'E', 'E', 'O', 'O', 'O', 'E', 'O', 'E', 'O', 'E', 'O', 'E', 'O', 'E', 'O', 'E', 'E', 'E', 'O', 'O', 'O', 'E', 'E', 'E', 'O', 'O', 'O', 'O', 'O', 'E', 'E', 'O', 'O', 'O', 'E', 'O', 'O', 'E', 'E', 'O', 'E', 'O', 'E', 'O', 'O', 'O', 'E', 'E', 'E', 'E', 'O', 'O', 'O', 'E', 'O', 'O', 'E', 'E', 'O', 'O', 'O', 'E', 'O', 'O', 'O', 'O', 'E', 'E', 'O', 'E', 'E', 'E', 'E', 'O', 'O', 'O', 'E', 'O', 'O', 'E', 'O', 'E', 'E', 'O', 'O', 'E', 'E', 'E', 'O', 'O', 'O', 'E', 'E', 'O', 'O', 'E', 'E', 'O', 'E', 'E', 'E', 'O', 'O', 'O', 'E', 'O', 'O', 'O', 'E', 'O', 'O', 'E', 'E', 'O', 'O', 'O', 'O', 'E', 'E', 'O', 'E', 'E', 'E', 'E', 'O', 'O', 'O', 'E', 'E', 'E', 'O', 'O', 'E', 'O', 'E', 'O', 'E', 'E', 'E', 'O', 'E', 'O', 'E', 'O', 'O', 'O', 'E', 'E', 'E', 'E', 'O', 'O', 'O', 'E', 'O', 'O', 'O', 'E', 'E', 'E', 'O', 'E', 'O', 'E', 'E', 'O', 'O', 'O', 'O', 'O', 'O', 'O', 'O', 'E', 'E', 'O', 'O', 'O', 'E', 'E', 'E', 'E', 'E', 'E', 'O', 'O', 'O', 'E', 'E', 'O', 'E', 'E', 'O', 'E', 'O', 'E', 'O', 'E', 'O', 'O', 'E', 'O', 'E', 'O', 'O', 'O', 'E', 'O', 'O', 'O', 'E', 'O', 'O', 'E', 'O', 'E', 'O', 'E', 'O', 'O', 'E', 'E', 'E', 'E', 'O', 'E', 'E', 'O', 'E', 'O', 'O', 'O', 'O', 'E', 'E', 'E', 'O', 'E', 'O', 'E', 'E', 'O', 'E', 'E', 'O', 'O', 'O', 'E', 'O', 'O', 'E', 'E', 'O', 'E', 'O', 'O', 'O', 'O', 'O', 'E', 'O', 'E', 'O', 'O', 'O', 'O', 'O', 'E', 'O', 'E', 'E', 'E', 'O', 'E', 'E', 'O', 'E', 'E', 'E', 'E', 'E', 'O', 'O', 'E', 'E', 'O', 'E', 'E', 'E', 'E', 'E', 'E', 'O', 'E', 'O', 'O', 'O', 'E', 'O', 'O', 'E', 'O', 'E', 'E', 'O', 'O', 'O', 'O', 'E', 'E', 'O', 'O', 'E', 'O', 'E', 'O', 'E', 'O', 'E', 'O', 'O', 'O', 'O', 'E', 'O', 'E', 'E', 'E', 'E', 'E', 'E', 'E', 'O', 'E', 'O', 'E', 'E', 'E', 'O', 'O', 'E', 'E', 'E', 'E', 'E', 'O', 'O', 'E', 'E', 'E', 'O', 'E', 'O', 'E', 'O', 'O', 'E', 'O', 'E', 'O', 'E', 'O', 'O', 'O', 'E', 'O', 'E', 'E', 'O', 'O', 'O', 'O', 'O', 'O', 'O', 'E', 'E', 'E', 'E', 'E', 'O', 'O', 'O', 'E', 'E', 'O', 'E', 'E', 'O', 'O', 'O', 'E', 'E', 'E', 'E', 'E', 'O', 'E', 'E', 'O', 'E', 'E', 'E', 'O', 'E', 'O', 'E', 'O', 'E', 'O', 'O', 'O', 'E', 'E', 'O', 'O', 'E', 'O', 'O', 'E', 'E', 'O', 'O', 'O', 'E', 'O', 'E', 'O', 'O', 'E', 'E', 'O', 'O', 'E', 'E', 'O', 'O', 'O', 'E', 'O', 'E', 'O', 'O', 'O', 'E', 'E', 'O', 'E', 'E', 'O', 'O', 'O', 'O', 'O', 'E', 'E', 'O', 'O', 'O', 'E', 'E', 'O', 'O', 'E', 'E', 'E', 'E', 'E', 'E', 'E', 'O', 'O', 'E', 'E', 'O', 'E', 'E', 'O', 'O', 'E', 'E', 'O', 'O', 'E', 'E', 'E', 'O', 'E', 'E', 'O', 'E', 'O', 'E', 'E', 'O', 'E', 'O', 'O', 'E', 'E', 'O', 'E', 'E', 'E', 'E', 'O', 'O', 'E', 'O', 'E', 'O', 'E', 'E', 'E', 'E', 'O', 'O', 'E', 'E', 'O', 'O', 'E', 'O', 'E', 'E', 'O', 'O', 'E', 'E', 'E', 'E', 'O', 'O', 'O', 'O', 'O', 'E', 'E', 'O', 'O', 'E', 'O', 'O', 'O', 'O', 'O', 'O', 'E', 'O', 'O', 'E', 'O', 'E', 'E', 'O', 'O', 'E', 'O', 'O', 'O', 'E', 'O', 'O', 'O', 'E', 'O', 'O', 'O', 'E', 'O', 'E', 'E', 'O', 'O', 'E', 'E', 'E', 'O', 'O', 'O', 'O', 'O', 'E', 'E', 'E', 'O', 'O', 'E', 'E', 'E', 'O', 'E', 'O', 'E', 'E', 'O', 'O', 'O', 'E', 'O', 'O', 'O', 'O', 'O', 'E', 'O', 'E', 'O', 'E', 'E', 'E', 'E', 'E', 'O', 'E', 'O', 'E', 'O', 'E', 'O', 'E', 'E', 'O', 'O', 'O', 'E', 'E', 'O', 'E', 'O', 'E', 'O', 'E', 'E', 'E', 'O', 'E', 'O', 'O', 'O', 'O', 'O', 'E', 'O', 'O', 'E', 'O', 'O', 'E', 'E', 'O', 'E', 'E', 'O', 'O', 'O', 'O', 'O', 'E', 'E', 'E', 'E', 'O', 'E', 'E', 'E', 'E', 'E', 'E', 'O', 'E', 'O', 'E', 'O', 'O', 'E', 'O', 'E', 'E', 'E', 'E', 'O', 'O', 'O', 'O', 'O', 'E', 'O', 'O', 'E', 'E', 'O', 'O', 'E', 'O', 'O', 'O', 'O', 'O', 'O', 'E', 'O', 'O', 'E', 'O', 'O', 'O', 'E', 'E', 'O', 'E', 'E', 'E', 'E', 'O', 'E', 'O', 'E', 'O', 'E', 'O', 'E', 'E', 'O', 'E', 'E', 'E', 'O', 'E', 'O', 'O', 'O', 'E', 'E', 'O', 'E', 'E', 'E', 'E', 'O', 'E', 'O', 'E', 'O', 'E', 'O', 'O', 'O', 'O', 'O', 'E', 'E', 'O', 'E', 'E', 'O', 'E', 'O', 'E', 'O', 'E', 'O', 'O', 'O', 'O', 'E', 'E', 'O', 'O', 'E', 'O', 'O', 'O', 'E', 'O', 'E', 'O', 'O', 'O', 'O', 'E', 'E', 'E', 'E', 'O', 'E', 'E', 'O', 'O', 'E', 'O', 'O', 'E', 'E', 'E', 'O', 'E', 'O', 'E', 'E', 'E', 'E', 'O', 'O', 'O', 'O', 'E', 'E', 'E', 'E', 'O', 'E', 'E', 'E', 'E', 'O', 'O', 'E', 'E', 'O', 'E', 'O', 'E', 'O', 'O', 'E', 'E', 'E', 'E', 'O', 'E', 'E', 'O', 'E', 'E', 'E', 'O', 'E', 'O', 'E', 'O', 'E', 'E', 'E', 'O', 'O', 'E', 'E', 'O', 'E', 'O', 'E', 'E', 'E', 'O', 'O', 'E', 'O', 'O', 'O', 'O', 'O', 'O', 'O', 'E', 'O', 'E', 'E', 'O', 'E', 'O', 'O', 'O', 'O', 'E', 'E', 'O', 'E', 'E', 'E', 'E', 'E', 'O', 'E', 'O', 'E', 'E', 'E', 'O', 'E', 'E', 'E', 'O', 'E', 'E', 'E', 'O', 'E', 'E', 'O', 'E', 'E', 'O', 'O', 'E', 'O', 'E', 'E', 'E', 'O', 'E', 'E', 'E', 'E', 'E', 'E', 'E', 'O', 'E', 'O', 'E', 'E', 'O', 'E', 'O', 'O', 'O', 'E', 'O', 'O', 'E', 'E', 'O', 'E', 'O', 'E', 'E', 'E', 'O', 'O', 'E', 'E', 'E', 'O', 'E', 'O', 'E', 'E', 'O', 'E', 'E', 'E', 'E', 'E', 'O', 'E', 'E', 'E', 'O', 'E', 'E', 'O', 'E', 'E', 'O', 'O', 'O', 'O', 'O', 'E', 'O', 'O', 'O', 'O', 'O', 'O', 'E', 'O', 'O', 'O', 'O', 'O', 'E', 'O', 'O', 'E', 'O', 'E', 'O', 'E', 'E', 'O', 'E', 'E', 'E', 'O', 'O', 'O', 'O', 'O', 'O', 'E', 'E', 'E', 'E', 'O', 'O', 'E', 'E', 'E', 'E', 'E', 'E', 'O', 'E', 'O', 'E', 'E', 'O', 'E', 'O', 'E', 'E', 'E', 'E', 'E', 'O', 'O', 'E', 'E', 'O', 'E', 'O', 'E', 'O', 'O', 'E', 'O', 'O', 'O', 'E', 'E', 'O', 'O', 'E', 'E', 'O', 'O', 'O', 'O', 'O', 'O', 'O', 'E', 'O', 'E', 'O', 'O', 'E', 'O', 'E', 'E', 'E', 'O', 'E', 'O', 'O', 'O', 'E', 'E', 'E', 'O', 'O', 'O', 'O', 'E', 'E', 'E', 'O', 'E', 'E', 'O', 'O', 'E', 'O', 'O', 'E', 'O', 'O', 'O', 'O', 'E', 'O', 'O', 'O', 'E', 'O', 'E', 'E', 'E', 'O', 'E', 'E', 'E', 'O', 'O', 'O', 'O', 'O', 'O', 'O', 'E', 'O', 'O', 'O', 'E', 'O', 'O', 'O', 'O', 'O', 'E', 'O', 'O', 'E', 'O', 'O', 'E', 'E', 'E', 'O', 'O', 'E', 'E', 'E', 'E', 'E', 'O', 'O', 'O', 'O', 'O', 'E', 'E', 'E', 'E', 'E', 'E', 'E', 'E', 'E', 'O', 'E', 'E', 'E', 'E', 'E', 'O', 'O', 'O', 'O', 'E', 'E', 'E', 'E', 'O', 'E', 'O', 'O', 'E', 'O', 'O', 'O', 'E', 'E', 'O', 'O', 'O', 'O', 'E', 'O', 'O', 'E', 'O', 'O', 'O', 'E', 'O', 'E', 'O', 'O', 'E', 'E', 'E', 'E', 'O', 'O', 'E', 'E', 'E', 'E', 'O', 'O', 'E', 'O', 'O', 'O', 'E', 'E', 'E', 'E', 'O', 'O', 'E', 'E', 'O', 'E', 'E', 'O', 'O', 'O', 'O', 'O', 'O', 'E', 'O', 'E', 'E', 'E', 'O', 'E', 'O', 'E', 'E', 'O', 'O', 'E', 'O', 'O', 'O', 'O', 'O', 'E', 'O', 'E', 'O', 'E', 'E', 'E', 'E', 'E', 'O', 'E', 'E', 'O', 'E', 'E', 'E', 'O', 'E', 'E', 'E', 'E', 'O', 'E', 'O', 'E', 'O', 'E', 'O', 'O', 'E', 'E', 'O', 'O', 'O', 'O', 'E', 'E', 'O', 'O', 'O', 'E', 'O', 'E', 'O', 'E', 'O', 'O', 'O', 'O', 'E', 'O', 'E', 'O', 'O', 'E', 'O', 'O', 'E', 'O', 'O', 'E', 'O', 'O', 'E', 'O', 'O', 'E', 'O', 'O', 'O', 'E', 'O', 'E', 'E', 'E', 'O', 'O', 'E', 'O', 'O', 'E', 'E', 'O', 'O', 'E', 'O', 'E', 'E', 'E', 'E', 'O', 'O', 'O', 'O', 'E', 'E', 'E', 'O', 'E', 'E', 'O', 'O', 'E', 'E', 'O', 'O', 'O', 'E', 'E', 'E', 'E', 'O', 'E', 'O', 'O', 'E', 'E', 'E', 'O', 'O', 'E', 'O', 'O', 'E', 'O', 'O', 'O', 'O', 'E', 'E', 'E', 'E', 'O', 'O', 'E', 'E', 'E', 'O', 'O', 'O', 'O', 'E', 'O', 'E', 'O', 'O', 'O', 'O', 'E', 'O', 'O', 'E', 'O', 'O', 'O', 'E', 'O', 'O', 'O', 'E', 'E', 'O', 'E', 'O', 'E', 'O', 'E', 'O', 'E', 'E', 'E', 'E', 'O', 'E', 'O', 'E', 'O', 'O', 'E', 'E', 'O', 'O', 'O', 'E', 'E', 'E', 'O', 'O', 'O', 'O', 'E', 'O', 'O', 'E', 'O', 'O', 'O', 'E', 'O', 'O', 'O', 'O', 'E', 'O', 'O', 'O', 'E', 'E', 'O', 'E', 'O', 'O', 'O', 'O', 'E', 'O', 'O', 'E', 'O', 'E', 'E', 'E', 'O', 'E', 'O', 'E', 'O', 'E', 'E', 'E', 'E', 'O', 'E', 'O', 'O', 'E', 'E', 'E', 'O', 'E', 'E', 'O', 'O', 'E', 'O', 'E', 'O', 'E', 'E', 'O', 'O', 'E', 'E', 'O', 'O', 'O', 'E', 'E', 'E', 'E', 'E', 'O', 'E', 'O', 'O', 'O', 'E', 'E', 'O', 'O', 'E', 'O', 'E', 'O', 'E', 'O', 'E', 'O', 'O', 'E', 'E', 'O', 'O', 'O', 'O', 'E', 'O', 'O', 'O', 'E', 'E', 'O', 'O', 'O', 'O', 'E', 'E', 'E', 'O', 'E', 'O', 'E', 'O', 'E', 'O', 'E', 'E', 'E', 'E', 'E', 'E', 'E', 'E', 'O', 'E', 'O', 'E', 'O', 'O', 'O', 'O', 'E', 'O', 'O', 'O', 'O', 'E', 'E', 'E', 'O', 'O', 'O', 'E', 'E', 'O', 'E', 'O', 'E', 'O', 'O', 'O', 'O', 'E', 'E', 'O', 'E', 'E', 'O', 'O', 'O', 'E', 'O', 'O', 'E', 'E', 'E', 'O', 'O', 'O', 'O', 'E', 'E', 'O', 'O', 'O', 'O', 'E', 'O', 'O', 'E', 'E', 'O', 'E', 'E', 'O', 'E', 'E', 'O', 'O', 'E', 'E', 'E', 'O', 'E', 'E', 'E', 'E', 'E', 'E', 'E', 'E', 'E', 'E', 'O', 'E', 'O', 'O', 'E', 'O', 'O', 'E', 'O', 'E', 'E', 'E', 'E', 'E', 'O', 'O', 'E', 'E', 'O', 'E', 'O', 'E', 'E', 'O', 'E', 'O', 'E', 'E', 'O', 'E', 'E', 'O', 'E', 'E', 'O', 'E', 'E', 'O', 'E', 'O', 'O', 'E', 'O', 'E', 'E', 'E', 'O', 'O', 'O', 'O', 'O', 'O', 'E', 'O', 'E', 'E', 'O', 'E', 'O', 'E', 'E', 'E', 'E', 'O', 'O', 'E', 'O', 'O', 'O', 'E', 'O', 'O', 'E', 'O', 'O', 'E', 'E', 'O', 'O', 'O', 'E', 'E', 'E', 'E', 'O', 'O', 'E', 'E', 'E', 'E', 'O', 'E', 'O', 'E', 'E', 'O', 'E', 'O', 'O', 'O', 'O', 'E', 'O', 'E', 'E', 'E', 'O', 'O', 'O', 'E', 'O', 'E', 'O', 'E', 'O', 'O', 'O', 'E', 'O', 'O', 'E', 'O', 'E', 'E', 'O', 'O', 'O', 'E', 'E', 'E', 'O', 'E', 'O', 'O', 'E', 'E', 'E', 'O', 'O', 'O', 'E', 'O', 'O', 'O', 'O', 'E', 'E', 'E', 'E', 'O', 'O', 'E', 'O', 'O', 'E', 'O', 'O', 'O', 'O', 'O', 'E', 'E', 'E', 'O', 'O', 'O', 'O', 'O', 'O', 'E', 'O', 'O', 'E', 'O', 'O', 'E', 'E', 'E', 'E', 'O', 'E', 'E', 'E', 'E', 'E', 'E', 'E', 'E', 'E', 'E', 'E', 'E', 'E', 'O', 'E', 'O', 'E', 'O', 'O', 'E', 'O', 'O', 'E', 'O', 'O', 'E', 'O', 'E', 'O', 'E', 'E', 'E', 'E', 'E', 'O', 'O', 'O', 'E', 'O', 'O', 'E', 'E', 'O', 'O', 'O', 'E', 'E', 'E', 'O', 'E', 'O', 'O', 'E', 'E', 'O', 'O', 'E', 'E', 'O', 'O', 'E', 'E', 'E', 'O', 'O', 'E', 'E', 'E', 'O', 'O', 'E', 'O', 'O', 'E', 'E', 'E', 'O', 'E', 'E', 'E', 'O', 'E', 'E', 'O', 'O', 'O', 'E', 'O', 'E', 'E', 'O', 'O', 'E', 'E', 'O', 'O', 'O', 'E', 'O', 'E', 'O', 'E', 'O', 'E', 'O', 'O', 'E', 'E', 'E', 'E', 'O', 'E', 'E', 'O', 'E', 'E', 'E', 'E', 'E', 'O', 'O', 'O', 'O', 'O', 'E', 'O', 'O', 'O', 'E', 'O', 'O', 'E', 'O', 'E', 'O', 'E', 'E', 'O', 'O', 'O', 'E', 'O', 'O', 'E', 'O', 'O', 'O', 'O', 'E', 'E', 'O', 'O', 'O', 'O', 'E', 'O', 'E', 'E', 'E', 'O', 'E', 'E', 'E', 'O', 'O', 'E', 'E', 'E', 'O', 'E', 'E', 'O', 'O', 'E', 'O', 'O', 'E', 'O', 'O', 'O', 'O', 'O', 'E', 'O', 'O', 'O', 'E', 'E', 'O', 'E', 'E', 'O', 'E', 'E', 'O', 'O', 'E', 'E', 'E', 'O', 'O', 'O', 'E', 'O', 'E', 'O', 'O', 'E', 'E', 'O', 'O', 'E', 'O', 'E', 'E', 'E', 'O', 'E', 'E', 'E', 'E', 'O', 'O', 'E', 'E', 'E', 'O', 'E', 'O', 'O', 'O', 'O', 'O', 'E', 'O', 'O', 'E', 'O', 'E', 'E', 'O', 'E', 'E', 'E', 'E', 'E', 'O', 'E', 'E', 'O', 'O', 'O', 'O', 'E', 'E', 'E', 'E', 'E', 'E', 'O', 'E', 'O', 'O', 'O', 'O', 'E', 'O', 'E', 'O', 'O', 'E', 'O', 'O', 'E', 'E', 'E', 'O', 'E', 'O', 'O', 'E', 'E', 'O', 'E', 'E', 'E', 'O', 'O', 'O', 'O', 'E', 'E', 'E', 'E', 'E', 'E', 'O', 'E', 'E', 'E', 'O', 'O', 'E', 'E', 'O', 'O', 'E', 'E', 'E', 'O', 'E', 'E', 'E', 'E', 'E', 'O', 'O', 'O', 'O', 'E', 'E', 'E', 'O', 'O', 'E', 'O', 'E', 'E', 'O', 'E', 'E', 'O', 'E', 'E', 'E', 'O', 'O', 'O', 'E', 'E', 'E', 'E', 'E', 'O', 'O', 'O', 'E', 'O', 'E', 'O', 'E', 'E', 'O', 'E', 'E', 'E', 'E', 'O', 'E', 'E', 'E', 'O', 'O', 'O', 'O', 'E', 'E', 'E', 'O', 'E', 'E', 'E', 'E', 'O', 'E', 'E', 'O', 'O', 'E', 'E', 'E', 'O', 'E', 'O', 'O', 'O', 'E', 'O', 'O', 'O', 'O', 'E', 'E', 'E', 'E', 'O', 'E', 'O', 'O', 'O', 'O', 'O', 'O', 'E', 'O', 'E', 'E', 'O', 'O', 'E', 'O', 'E', 'E', 'O', 'E', 'O', 'O', 'E', 'E', 'E', 'E', 'E', 'E', 'E', 'O', 'O', 'O', 'O', 'O', 'O', 'E', 'E', 'E', 'E', 'E', 'O', 'E', 'O', 'O', 'O', 'O', 'O', 'E', 'E', 'E', 'O', 'E', 'E', 'E', 'E', 'E', 'E', 'O', 'E', 'O', 'E', 'E', 'E', 'O', 'E', 'E', 'E', 'E', 'E', 'O', 'E', 'O', 'O', 'E', 'O', 'E', 'E', 'E', 'E', 'O', 'E', 'O', 'E', 'O', 'O', 'O', 'E', 'O', 'O', 'E', 'E', 'O', 'O', 'O', 'E', 'O', 'E', 'O', 'E', 'E', 'E', 'E', 'O', 'O', 'O', 'E', 'O', 'O', 'O', 'E', 'O', 'E', 'E', 'E', 'E', 'E', 'E', 'E', 'E', 'E', 'O', 'E', 'E', 'E', 'O', 'E', 'E', 'E', 'E', 'E', 'O', 'E', 'O', 'O', 'O', 'E', 'E', 'O', 'O', 'E', 'E', 'E', 'E', 'O', 'E', 'E', 'E', 'O', 'O', 'E', 'O', 'O', 'O', 'O', 'O', 'O', 'O', 'E', 'E', 'E', 'E', 'O', 'O', 'E', 'O', 'E', 'O', 'O', 'O', 'O', 'E', 'O', 'O', 'O', 'O', 'E', 'E', 'O', 'E', 'O', 'O', 'O', 'E', 'O', 'O', 'O', 'E', 'E', 'O', 'E', 'E', 'E', 'O', 'O', 'E', 'O', 'E', 'O', 'O', 'E', 'O', 'E', 'O', 'E', 'E', 'O', 'O', 'E', 'E', 'E', 'E', 'E', 'E', 'E', 'E', 'E', 'E', 'E', 'E', 'E', 'E', 'E', 'E', 'O', 'E', 'E', 'E', 'E', 'O', 'E', 'O', 'O', 'E', 'E', 'E', 'O', 'O', 'E', 'E', 'O', 'E', 'O', 'E', 'E', 'E', 'O', 'O', 'E', 'E', 'E', 'E', 'E', 'O', 'E', 'O', 'E', 'O', 'O', 'E', 'E', 'E', 'O', 'E', 'E', 'E', 'O', 'O', 'E', 'O', 'O', 'O', 'O', 'O', 'O', 'E', 'O', 'E', 'O', 'E', 'O', 'O', 'E', 'O', 'E', 'O', 'O', 'E', 'O', 'O', 'O', 'O', 'E', 'E', 'E', 'O', 'E', 'O', 'E', 'O', 'O', 'E', 'E', 'O', 'E', 'O', 'O', 'O', 'E', 'O', 'O', 'O', 'E', 'O', 'E', 'O', 'O', 'E', 'O', 'O', 'O', 'O', 'O', 'O', 'E', 'O', 'O', 'O', 'O', 'E', 'E', 'E', 'O', 'O', 'E', 'O', 'E', 'O', 'E', 'E', 'E', 'E', 'E', 'O', 'E', 'O', 'O', 'E', 'E', 'O', 'O', 'E', 'O', 'E', 'E', 'E', 'O', 'O', 'O', 'E', 'O', 'O', 'O', 'O', 'E', 'E', 'E', 'O', 'E', 'O', 'E', 'E', 'O', 'E', 'O', 'E', 'E', 'O', 'O', 'O', 'E', 'O', 'E', 'E', 'E', 'E', 'E', 'E', 'E', 'E', 'O', 'E', 'E', 'O', 'O', 'O', 'E', 'O', 'O', 'O', 'E', 'O', 'E', 'E', 'E', 'O', 'O', 'O', 'E', 'O', 'O', 'O', 'O', 'E', 'E', 'O', 'E', 'O', 'O', 'E', 'O', 'O', 'E', 'E', 'O', 'E', 'E', 'O', 'O', 'E', 'E', 'O', 'E', 'E', 'E', 'O', 'O', 'E', 'E', 'E', 'E', 'E', 'E', 'E', 'O', 'E', 'E', 'E', 'E', 'O', 'E', 'E', 'O', 'E', 'E', 'E', 'O', 'O', 'E', 'O', 'O', 'O', 'O', 'E', 'O', 'O', 'E', 'O', 'O', 'O', 'O', 'O', 'O', 'O', 'O', 'O', 'O', 'E', 'E', 'O', 'E', 'O', 'E', 'O', 'O', 'O', 'O', 'O', 'O', 'O', 'O', 'O', 'E', 'E', 'O', 'O', 'E', 'O', 'E', 'E', 'O', 'O', 'E', 'E', 'E', 'O', 'O', 'O', 'O', 'O', 'E', 'O', 'O', 'O', 'E', 'E', 'O', 'E', 'O', 'E', 'O', 'O', 'E', 'O', 'O', 'E', 'O', 'O', 'O', 'E', 'O', 'E', 'E', 'E', 'O', 'O', 'O', 'E', 'O', 'E', 'E', 'E', 'O', 'O', 'O', 'O', 'E', 'O', 'E', 'E', 'O', 'E', 'O', 'E', 'E', 'O', 'O', 'O', 'E', 'E', 'E', 'E', 'O', 'O', 'E', 'O', 'O', 'O', 'E', 'E', 'E', 'O', 'O', 'E', 'O', 'E', 'E', 'E', 'O', 'E', 'E', 'O', 'O', 'E', 'E', 'E', 'E', 'O', 'E', 'E', 'E', 'E', 'E', 'E', 'O', 'O', 'E', 'O', 'O', 'E', 'O', 'E', 'E', 'E', 'E', 'E', 'E', 'E', 'O', 'E', 'O', 'E', 'O', 'E', 'E', 'O', 'O', 'E', 'E', 'O', 'O', 'O', 'O', 'E', 'O', 'O', 'O', 'E', 'E', 'E', 'O', 'E', 'E', 'O', 'E', 'E', 'O', 'O', 'E', 'E', 'O', 'E', 'E', 'E', 'E', 'E', 'O', 'O', 'O', 'O', 'O', 'O', 'E', 'E', 'O', 'O', 'O', 'E', 'E', 'E', 'E', 'O', 'E', 'O', 'E', 'O', 'E', 'E', 'O', 'O', 'E', 'O', 'O', 'E', 'O', 'O', 'O', 'O', 'O', 'E', 'E', 'E', 'E', 'E', 'O', 'O', 'E', 'O', 'E', 'O', 'O', 'O', 'O', 'E', 'O', 'O', 'O', 'O', 'E', 'E', 'O', 'O', 'O', 'E', 'O', 'E', 'O', 'O', 'O', 'O', 'O', 'E', 'O', 'E', 'E', 'O', 'E', 'O', 'O', 'O', 'O', 'E', 'E', 'O', 'O', 'E', 'E', 'O', 'O', 'O', 'E', 'E', 'O', 'O', 'O', 'E', 'E', 'O', 'O', 'E', 'O', 'O', 'E', 'O', 'O', 'E', 'E', 'O', 'O', 'E', 'O', 'E', 'O', 'O', 'O', 'O', 'E', 'E', 'E', 'O', 'E', 'O', 'E', 'O', 'E', 'E', 'O', 'O', 'O', 'O', 'O', 'O', 'O', 'O', 'O', 'O', 'E', 'O', 'E', 'O', 'O', 'E', 'E', 'E', 'O', 'O', 'O', 'O', 'O', 'E', 'E', 'E', 'E', 'O', 'E', 'E', 'O', 'O', 'E', 'O', 'O', 'O', 'E', 'O', 'O', 'E', 'O', 'E', 'E', 'E', 'E', 'E', 'O', 'E', 'O', 'O', 'E', 'O', 'O', 'O', 'E', 'O', 'E', 'E', 'O', 'E', 'O', 'E', 'O', 'E', 'O', 'O', 'E', 'O', 'O', 'E', 'O', 'O', 'E', 'E', 'O', 'E', 'E', 'O', 'E', 'E', 'O', 'E', 'O', 'E', 'O', 'E', 'E', 'O', 'O', 'O', 'O', 'O', 'E', 'O', 'E', 'O', 'E', 'O', 'E', 'O', 'E', 'O', 'O', 'O', 'E', 'E', 'E', 'E', 'O', 'O', 'O', 'O', 'E', 'O', 'O', 'O', 'E', 'O', 'O', 'O', 'E', 'E', 'O', 'O', 'O', 'O', 'E', 'O', 'E', 'O', 'O', 'O', 'O', 'O', 'O', 'O', 'E', 'E', 'O', 'E', 'O', 'O', 'O', 'E', 'O', 'O', 'E', 'E', 'O', 'O', 'E', 'O', 'E', 'E', 'O', 'O', 'E', 'O', 'E', 'O', 'O', 'O', 'O', 'O', 'E', 'E', 'O', 'E', 'E', 'O', 'O', 'E', 'E', 'E', 'O', 'E', 'O', 'E', 'E', 'E', 'O', 'O', 'E', 'E', 'E', 'O', 'O', 'E', 'E', 'E', 'E', 'E', 'E', 'E', 'E', 'O', 'O', 'O', 'E', 'E', 'E', 'E', 'O', 'O', 'E', 'E', 'E', 'O', 'O', 'E', 'E', 'E', 'E', 'E', 'O', 'E', 'O', 'O', 'O', 'E', 'O', 'E', 'O', 'O', 'O', 'O', 'O', 'O', 'E', 'O', 'O', 'E', 'O', 'O', 'E', 'E', 'O', 'O', 'O', 'E', 'O', 'O', 'O', 'E', 'O', 'O', 'O', 'O', 'O', 'O', 'E', 'O', 'E', 'E', 'O', 'O', 'O', 'O', 'E', 'E', 'O', 'O', 'E', 'O', 'O', 'E', 'O', 'O', 'O', 'E', 'E', 'O', 'O', 'O', 'E', 'O', 'E', 'O', 'E', 'O', 'O', 'E', 'E', 'O', 'O', 'O', 'O', 'E', 'E', 'O', 'O', 'E', 'E', 'E', 'O', 'O', 'O', 'E', 'O', 'E', 'O', 'E', 'E', 'E', 'O', 'E', 'O', 'E', 'O', 'E', 'O', 'E', 'O', 'E', 'E', 'E', 'O', 'O', 'O', 'O', 'O', 'E', 'O', 'E', 'O', 'O', 'O', 'O', 'E', 'E', 'E', 'E', 'O', 'O', 'O', 'E', 'E', 'E', 'O', 'E', 'O', 'E', 'E', 'O', 'E', 'E', 'O', 'O', 'O', 'E', 'E', 'O', 'O', 'E', 'E', 'E', 'O', 'E', 'O', 'O', 'O', 'E', 'E', 'E', 'E', 'E', 'E', 'O', 'E', 'E', 'E', 'O', 'E', 'E', 'O', 'O', 'O', 'O', 'O', 'E', 'E', 'O', 'O', 'E', 'E', 'O', 'E', 'O', 'E', 'O', 'O', 'O', 'E', 'O', 'O', 'E', 'E', 'O', 'E', 'O', 'O', 'O', 'O', 'O', 'E', 'E', 'E', 'O', 'E', 'E', 'E', 'O', 'E', 'O', 'O', 'E', 'O', 'E', 'E', 'E', 'E', 'O', 'O', 'E', 'E', 'E', 'E', 'E', 'O', 'E', 'O', 'O', 'O', 'E', 'O', 'O', 'E', 'O', 'O', 'E', 'E', 'E', 'O', 'E', 'O', 'O', 'O', 'O', 'O', 'O', 'E', 'O', 'E', 'O', 'O', 'O', 'E', 'E', 'O', 'O', 'O', 'E', 'O', 'O', 'E', 'E', 'O', 'O', 'E', 'E', 'O', 'O', 'O', 'E', 'E', 'E', 'E', 'O', 'E', 'O', 'O', 'E', 'O', 'E', 'O', 'E', 'E', 'E', 'O', 'E', 'O', 'E', 'E', 'O', 'E', 'O', 'O', 'O', 'O', 'E', 'E', 'E', 'E', 'E', 'O', 'E', 'O', 'E', 'O', 'E', 'O', 'O', 'E', 'E', 'O', 'E', 'O', 'E', 'E', 'E', 'O', 'E', 'E', 'E', 'E', 'O', 'O', 'O', 'O', 'O', 'E', 'E', 'O', 'O', 'O', 'O', 'E', 'O', 'O', 'O', 'O', 'E', 'O', 'E', 'O', 'O', 'E', 'E', 'O', 'O', 'O', 'E', 'E', 'O', 'O', 'O', 'E', 'O', 'O', 'E', 'O', 'E', 'E', 'O', 'O', 'E', 'O', 'E', 'O', 'E', 'O', 'E', 'E', 'E', 'E', 'O', 'O', 'O', 'E', 'O', 'E', 'O', 'O', 'O', 'O', 'O', 'O', 'E', 'O', 'O', 'E', 'O', 'O', 'O', 'E', 'O', 'E', 'O', 'O', 'O', 'E', 'O', 'E', 'E', 'E', 'E', 'E', 'O', 'O', 'O', 'O', 'E', 'O', 'O', 'O', 'O', 'E', 'O', 'E', 'E', 'O', 'O', 'O', 'E', 'E', 'E', 'O', 'E', 'O', 'O', 'E', 'E', 'E', 'O', 'O', 'E', 'E', 'E', 'E', 'E', 'E', 'O', 'O', 'E', 'O', 'O', 'O', 'O', 'E', 'E', 'E', 'O', 'E', 'E', 'O', 'O', 'E', 'E', 'E', 'E', 'E', 'O', 'E', 'O', 'E', 'E', 'E', 'E', 'E', 'O', 'E', 'E', 'O', 'O', 'O', 'O', 'O', 'E', 'E', 'O', 'O', 'O', 'O', 'E', 'O', 'E', 'E', 'O', 'O', 'O', 'O', 'O', 'E', 'O', 'E', 'E', 'O', 'O', 'E', 'E', 'O', 'O', 'O', 'O', 'O', 'O', 'O', 'E', 'O', 'E', 'O', 'O', 'O', 'O', 'O', 'O', 'E', 'E', 'O', 'E', 'O', 'O', 'O', 'O', 'O', 'E', 'E', 'O', 'O', 'O', 'E', 'E', 'O', 'O', 'O', 'E', 'E', 'E', 'E', 'O', 'E', 'E', 'E', 'O', 'O', 'E', 'O', 'O', 'E', 'E', 'E', 'O', 'E', 'O', 'O', 'E', 'E', 'E', 'E', 'O', 'E', 'E', 'E', 'O', 'O', 'O', 'O', 'E', 'E', 'O', 'E', 'E', 'O', 'O', 'E', 'E', 'O', 'E', 'E', 'E', 'O', 'E', 'O', 'E', 'O', 'O', 'E', 'O', 'E', 'E', 'O', 'O', 'E', 'O', 'O', 'O', 'E', 'E', 'O', 'O', 'O', 'E', 'E', 'O', 'E', 'E', 'O', 'O', 'O', 'O', 'E', 'O', 'E', 'E', 'O', 'O', 'O', 'E', 'E', 'E', 'O', 'E', 'O', 'E', 'E', 'E', 'O', 'E', 'E', 'O', 'O', 'E', 'O', 'E', 'O', 'O', 'E', 'O', 'E', 'E', 'E', 'O', 'E', 'E', 'O', 'O', 'E', 'E', 'O', 'O', 'E', 'E', 'O', 'E', 'O', 'E', 'E', 'O', 'O', 'O', 'O', 'E', 'E', 'O', 'E', 'E', 'O', 'O', 'E', 'E', 'O', 'E', 'O', 'E', 'E', 'E', 'E', 'O', 'O', 'O', 'E', 'E', 'O', 'O', 'O', 'O', 'E', 'E', 'O', 'E', 'O', 'O', 'E', 'E', 'O', 'E', 'E', 'E', 'E', 'O', 'O', 'O', 'E', 'E', 'O', 'O', 'E', 'O', 'O', 'O', 'E', 'E', 'O', 'O', 'O', 'E', 'E', 'E', 'E', 'E', 'O', 'O', 'E', 'O', 'O', 'O', 'O', 'E', 'O', 'E', 'E', 'O', 'O', 'O', 'O', 'O', 'O', 'O', 'E', 'E', 'O', 'E', 'O', 'O', 'O', 'O', 'O', 'O', 'O', 'O', 'E', 'E', 'O', 'O', 'E', 'E', 'O', 'O', 'O', 'O', 'E', 'E', 'E', 'E', 'O', 'O', 'E', 'O', 'O', 'O', 'E', 'E', 'E', 'E', 'O', 'E', 'E', 'O', 'E', 'E', 'E', 'O', 'O', 'O', 'E', 'O', 'O', 'E', 'O', 'E', 'E', 'E', 'O', 'E', 'O', 'E', 'O', 'E', 'O', 'O', 'O', 'O', 'E', 'E', 'O', 'O', 'E', 'O', 'E', 'E', 'O', 'O', 'E', 'O', 'E', 'O', 'O', 'E', 'O', 'E', 'O', 'E', 'E', 'E', 'E', 'O', 'E', 'O', 'O', 'O', 'E', 'O', 'O', 'E', 'O', 'E', 'E', 'O', 'E', 'E', 'O', 'O', 'O', 'E', 'E', 'O', 'E', 'O', 'O', 'O', 'E', 'E', 'E', 'O', 'O', 'E', 'E', 'O', 'E', 'O', 'E', 'O', 'O', 'O', 'E', 'O', 'E', 'E', 'O', 'E', 'O', 'O', 'E', 'E', 'O', 'O', 'O', 'O', 'E', 'O', 'O', 'E', 'E', 'O', 'E', 'O', 'E', 'E', 'E', 'O', 'O', 'E', 'O', 'O', 'E', 'E', 'E', 'E', 'O', 'E', 'O', 'E', 'E', 'E', 'E', 'O', 'O', 'E', 'O', 'E', 'O', 'O', 'O', 'O', 'E', 'O', 'O', 'E', 'O', 'E', 'E', 'E', 'O', 'O', 'E', 'O', 'O', 'E', 'E', 'O', 'E', 'O', 'E', 'O', 'O', 'E', 'E', 'O', 'O', 'O', 'E', 'E', 'E', 'E', 'E', 'E', 'E', 'O', 'E', 'E', 'O', 'E', 'O', 'E', 'O', 'O', 'O', 'O', 'E', 'O', 'E', 'E', 'O', 'E', 'O', 'O', 'O', 'E', 'E', 'E', 'O', 'O', 'E', 'O', 'E', 'O', 'O', 'O', 'O', 'O', 'E', 'O', 'E', 'O', 'E', 'O', 'E', 'E', 'O', 'O', 'E', 'O', 'O', 'E', 'O', 'O', 'O', 'O', 'O', 'O', 'O', 'O', 'O', 'E', 'E', 'E', 'O', 'O', 'O', 'O', 'E', 'O', 'O', 'O', 'E', 'O', 'O', 'E', 'E', 'E', 'O', 'O', 'E', 'E', 'O', 'O', 'O', 'O', 'E', 'O', 'O', 'O', 'E', 'O', 'E', 'O', 'O', 'E', 'E', 'O', 'E', 'E', 'O', 'O', 'O', 'E', 'E', 'O', 'O', 'E', 'O', 'E', 'E', 'O', 'E', 'E', 'O', 'E', 'O', 'E', 'O', 'O', 'E', 'O', 'O', 'O', 'O', 'E', 'O', 'E', 'E', 'E', 'O', 'E', 'E', 'E', 'O', 'O', 'E', 'E', 'E', 'E', 'E', 'E', 'O', 'E', 'E', 'E', 'E', 'E', 'O', 'E', 'E', 'O', 'E', 'E', 'E', 'E', 'O', 'E', 'E', 'E', 'E', 'O', 'O', 'O', 'O', 'E', 'O', 'O', 'O', 'E', 'E', 'O', 'E', 'O', 'O', 'E', 'E', 'E', 'E', 'E', 'E', 'E', 'E', 'O', 'O', 'O', 'E', 'E', 'E', 'O', 'O', 'O', 'O', 'O', 'E', 'O', 'O', 'O', 'E', 'E', 'O', 'O', 'E', 'E', 'E', 'O', 'E', 'E', 'E', 'O', 'E', 'E', 'E', 'O', 'O', 'O', 'O', 'E', 'O', 'E', 'O', 'O', 'O', 'O', 'O', 'O', 'E', 'E', 'O', 'E', 'E', 'O', 'O', 'O', 'O', 'E', 'E', 'O', 'O', 'O', 'O', 'E', 'E', 'O', 'O', 'O', 'E', 'O', 'O', 'O', 'O', 'O', 'E', 'O', 'E', 'O', 'E', 'O', 'E', 'O', 'E', 'O', 'O', 'E', 'E', 'O', 'O', 'E', 'O', 'E', 'E', 'E', 'E', 'O', 'O', 'O', 'E', 'O', 'E', 'O', 'O', 'O', 'O', 'E', 'E', 'E', 'E', 'E', 'E', 'E', 'E', 'E', 'O', 'E', 'O', 'O', 'O', 'O', 'O', 'O', 'E', 'O', 'O', 'E', 'O', 'O', 'E', 'O', 'O', 'E', 'O', 'O', 'O', 'E', 'O', 'E', 'E', 'O', 'E', 'O', 'O', 'E', 'O', 'O', 'O', 'E', 'O', 'O', 'O', 'O', 'E', 'O', 'E', 'O', 'O', 'E', 'O', 'E', 'O', 'O', 'E', 'O', 'O', 'O', 'O', 'O', 'E', 'E', 'E', 'E', 'E', 'E', 'O', 'E', 'E', 'E', 'E', 'E', 'E', 'E', 'E', 'E', 'E', 'E', 'E', 'E', 'E', 'E', 'E', 'O', 'E', 'E', 'E', 'O', 'O', 'O', 'E', 'O', 'O', 'E', 'E', 'E', 'O', 'E', 'E', 'E', 'E', 'O', 'O', 'O', 'E', 'O', 'E', 'O', 'O', 'E', 'E', 'O', 'O', 'E', 'E', 'O', 'E', 'E', 'E', 'E', 'E', 'O', 'E', 'O', 'E', 'O', 'O', 'O', 'E', 'E', 'E', 'E', 'O', 'E', 'E', 'E', 'O', 'E', 'E', 'O', 'O', 'E', 'E', 'E', 'O', 'O', 'O', 'E', 'O', 'E', 'O', 'O', 'O', 'O', 'E', 'E', 'E', 'E', 'E', 'O', 'E', 'E', 'E', 'O', 'E', 'O', 'E', 'O', 'E', 'E', 'O', 'E', 'E', 'O', 'O', 'E', 'E', 'E', 'E', 'E', 'O', 'E', 'E', 'O', 'O', 'O', 'O', 'O', 'E', 'O', 'O', 'O', 'E', 'O', 'O', 'O', 'O', 'E', 'E', 'O', 'O', 'E', 'O', 'O', 'O', 'E', 'O', 'O', 'E', 'O', 'E', 'E', 'E', 'E', 'O', 'O', 'E', 'O', 'E', 'O', 'O', 'O', 'E', 'E', 'O', 'E', 'O', 'O', 'O', 'O', 'E', 'E', 'E', 'O', 'O', 'E', 'E', 'O', 'O', 'O', 'E', 'O', 'E', 'E', 'E', 'E', 'E', 'O', 'E', 'E', 'O', 'O', 'O', 'E', 'O', 'E', 'O', 'E', 'E', 'O', 'E', 'O', 'O', 'O', 'O', 'O', 'E', 'E', 'E', 'O', 'E', 'O', 'O', 'E', 'E', 'E', 'O', 'O', 'E', 'O', 'O', 'O', 'E', 'E', 'E', 'O', 'O', 'E', 'O', 'E', 'O', 'O', 'O', 'O', 'E', 'O', 'E', 'E', 'O', 'O', 'E', 'O', 'O', 'E', 'E', 'O', 'E', 'O', 'E', 'E', 'E', 'O', 'E', 'E', 'E', 'E', 'E', 'E', 'O', 'O', 'O', 'E', 'E', 'O', 'O', 'O', 'E', 'E', 'O', 'E', 'O', 'O', 'O', 'O', 'E', 'O', 'E', 'O', 'O', 'O', 'E', 'E', 'E', 'O', 'E', 'E', 'O', 'O', 'E', 'E', 'E', 'O', 'E', 'E', 'O', 'E', 'E', 'O', 'E', 'E', 'O', 'E', 'E', 'E', 'E', 'E', 'E', 'O', 'O', 'E', 'O', 'E', 'E', 'E', 'E', 'E', 'E', 'O', 'E', 'O', 'E', 'O', 'E', 'E', 'E', 'O', 'E', 'O', 'O', 'E', 'E', 'O', 'E', 'E', 'O', 'E', 'O', 'E', 'E', 'E', 'E', 'E', 'O', 'E', 'O', 'E', 'O', 'E', 'O', 'E', 'O', 'E', 'E', 'E', 'E', 'O', 'O', 'E', 'O', 'O', 'E', 'E', 'O', 'O', 'E', 'O', 'O', 'O', 'O', 'O', 'O', 'E', 'O', 'O', 'O', 'O', 'O', 'E', 'E', 'E', 'O', 'O', 'O', 'O', 'E', 'O', 'O', 'E', 'O', 'O', 'E', 'E', 'O', 'O', 'E', 'O', 'E', 'O', 'E', 'E', 'E', 'O', 'O', 'O', 'E', 'E', 'O', 'E', 'E', 'O', 'E', 'E', 'O', 'O', 'O', 'O', 'E', 'E', 'E', 'E', 'O', 'E', 'E', 'E', 'O', 'O', 'E', 'E', 'E', 'O', 'E', 'E', 'O', 'E', 'E', 'E', 'O', 'O', 'E', 'E', 'E', 'E', 'E', 'O', 'E', 'E', 'E', 'E', 'O', 'O', 'E', 'E', 'E', 'E', 'O', 'O', 'O', 'O', 'O', 'O', 'O', 'E', 'O', 'O', 'O', 'E', 'E', 'O', 'E', 'O', 'E', 'O', 'E', 'E', 'O', 'O', 'E', 'E', 'E', 'E', 'O', 'E', 'O', 'E', 'E', 'E', 'E', 'O', 'O', 'E', 'E', 'E', 'O', 'O', 'O', 'E', 'O', 'E', 'O', 'O', 'O', 'E', 'E', 'O', 'E', 'E', 'E', 'E', 'E', 'E', 'O', 'E', 'O', 'E', 'O', 'E', 'E', 'O', 'E', 'O', 'O', 'E', 'O', 'O', 'E', 'E', 'O', 'E', 'E', 'E', 'E', 'O', 'E', 'O', 'O', 'E', 'O', 'E', 'O', 'E', 'O', 'E', 'O', 'E', 'E', 'O', 'O', 'E', 'E', 'O', 'O', 'O', 'O', 'O', 'O', 'E', 'E', 'O', 'E', 'O', 'E', 'E', 'O', 'E', 'E', 'O', 'O', 'E', 'O', 'O', 'E', 'O', 'O', 'E', 'E', 'O', 'E', 'E', 'E', 'E', 'O', 'E', 'E', 'E', 'E', 'E', 'O', 'O', 'E', 'O', 'O', 'E', 'E', 'O', 'O', 'O', 'O', 'O', 'O', 'O', 'O', 'O', 'E', 'O', 'O', 'E', 'O', 'E', 'O', 'E', 'E', 'O', 'O', 'E', 'E', 'O', 'E', 'E']\n",
            "Model Performance metrics:\n",
            "------------------------------\n",
            "Accuracy: 0.9397\n",
            "Precision: 0.9397\n",
            "Recall: 0.9397\n",
            "F1 Score: 0.9397\n",
            "\n",
            "Model Classification report:\n",
            "------------------------------\n",
            "              precision    recall  f1-score   support\n",
            "\n",
            "           O       0.94      0.94      0.94      3000\n",
            "           E       0.94      0.94      0.94      3000\n",
            "\n",
            "    accuracy                           0.94      6000\n",
            "   macro avg       0.94      0.94      0.94      6000\n",
            "weighted avg       0.94      0.94      0.94      6000\n",
            "\n",
            "\n",
            "Prediction Confusion Matrix:\n",
            "------------------------------\n",
            "          Predicted:      \n",
            "                   O     E\n",
            "Actual: O       2832   168\n",
            "        E        194  2806\n"
          ],
          "name": "stdout"
        },
        {
          "output_type": "stream",
          "text": [
            "/content/model_evaluation_utils.py:122: FutureWarning: the 'labels' keyword is deprecated, use 'codes' instead\n",
            "  labels=level_labels),\n",
            "/content/model_evaluation_utils.py:126: FutureWarning: the 'labels' keyword is deprecated, use 'codes' instead\n",
            "  labels=level_labels))\n"
          ],
          "name": "stderr"
        }
      ]
    },
    {
      "cell_type": "code",
      "metadata": {
        "id": "bwOUXRK28mAB",
        "colab_type": "code",
        "colab": {}
      },
      "source": [
        "import shutil\n",
        "shutil.rmtree('even-data')\n",
        "shutil.rmtree('odd-data')\n",
        "shutil.rmtree('test-data')\n",
        "shutil.rmtree('validation-data')\n",
        "shutil.rmtree('training-data')\n"
      ],
      "execution_count": 0,
      "outputs": []
    }
  ]
}